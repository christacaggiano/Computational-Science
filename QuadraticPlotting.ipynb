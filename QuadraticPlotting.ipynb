{
 "cells": [
  {
   "cell_type": "markdown",
   "metadata": {},
   "source": [
    "Christa Caggiano\n",
    "HW1 \n",
    "Computational Sciences \n",
    "5 Feb 2016\n"
   ]
  },
  {
   "cell_type": "code",
   "execution_count": 15,
   "metadata": {
    "collapsed": false
   },
   "outputs": [],
   "source": [
    "import cmath as cmath \n",
    "\n",
    "def calculateRoots(a, b, c, sign): \n",
    "    root = (-b + sign*cmath.sqrt(b**2 -(4 * a * c)))/(2*a)\n",
    "    return root\n",
    "\n",
    "def calculateQuadratic(a, b, c, domain): \n",
    "    return [a*(item**2) + (b*item) + c for item in domain]"
   ]
  },
  {
   "cell_type": "code",
   "execution_count": 43,
   "metadata": {
    "collapsed": false
   },
   "outputs": [
    {
     "name": "stdout",
     "output_type": "stream",
     "text": [
      "Please input a value for a:1\n",
      "Please input a value for b:2\n",
      "Please input a value for c:3\n"
     ]
    }
   ],
   "source": [
    "a = float(input(\"Please input a value for a:\"))\n",
    "b = float(input(\"Please input a value for b:\"))\n",
    "c = float(input(\"Please input a value for c:\"))\n"
   ]
  },
  {
   "cell_type": "code",
   "execution_count": 44,
   "metadata": {
    "collapsed": false
   },
   "outputs": [],
   "source": [
    "root1 = calculateRoots(a, b, c, 1)\n",
    "root2 = calculateRoots(a, b, c, -1)"
   ]
  },
  {
   "cell_type": "code",
   "execution_count": 45,
   "metadata": {
    "collapsed": false
   },
   "outputs": [],
   "source": [
    "if (root1.real)<(root2.real): \n",
    "    minRoot = root1 \n",
    "    maxRoot = root2 \n",
    "else: \n",
    "    minRoot = root2\n",
    "    maxRoot = root1"
   ]
  },
  {
   "cell_type": "code",
   "execution_count": 46,
   "metadata": {
    "collapsed": false
   },
   "outputs": [
    {
     "name": "stdout",
     "output_type": "stream",
     "text": [
      "no real roots to plot\n"
     ]
    },
    {
     "name": "stderr",
     "output_type": "stream",
     "text": [
      "C:\\Users\\Christa\\Anaconda3\\lib\\site-packages\\numpy\\core\\numeric.py:462: ComplexWarning: Casting complex values to real discards the imaginary part\n",
      "  return array(a, dtype, copy=False, order=order)\n"
     ]
    },
    {
     "data": {
      "image/png": "[encoded data removed]",
      "text/plain": [
       "<matplotlib.figure.Figure at 0x8b8908>"
      ]
     },
     "metadata": {},
     "output_type": "display_data"
    }
   ],
   "source": [
    "import matplotlib.pyplot as plt \n",
    "import numpy as np \n",
    "%matplotlib inline\n",
    "\n",
    "domain = np.linspace(minRoot-1, maxRoot+1, 15)\n",
    "calculatedValues = calculateQuadratic(a, b, c, domain.real)\n",
    "\n",
    "plt.xlabel(\"X\")\n",
    "plt.ylabel(\"Y\") \n",
    "plt.title(\"Quadratic function for given values of a, b, and c\")\n",
    "\n",
    "if (b**2 - (4*a*c) < 0):\n",
    "    \n",
    "    real = []\n",
    "    imaginary = []\n",
    "\n",
    "    for item in calculatedValues: \n",
    "        real.append(item.real)\n",
    "        imaginary.append(item.imag)\n",
    "\n",
    "    plt.plot(domain, real, color = \"DeepSkyBlue\")\n",
    "    print(\"no real roots to plot\")\n",
    "        \n",
    "else: \n",
    "    print(maxRoot)\n",
    "    plt.plot(domain, calculatedValues, color = \"MidnightBlue\")\n",
    "    plt.plot(minRoot, 0, marker = \"o\", color = \"DimGrey\")\n",
    "    plt.plot(maxRoot, 0, marker = \"o\", color = \"DimGrey\")\n",
    "    \n"
   ]
  },
  {
   "cell_type": "code",
   "execution_count": null,
   "metadata": {
    "collapsed": true
   },
   "outputs": [],
   "source": []
  }
 ],
 "metadata": {
  "kernelspec": {
   "display_name": "Python 3",
   "language": "python",
   "name": "python3"
  },
  "language_info": {
   "codemirror_mode": {
    "name": "ipython",
    "version": 3
   },
   "file_extension": ".py",
   "mimetype": "text/x-python",
   "name": "python",
   "nbconvert_exporter": "python",
   "pygments_lexer": "ipython3",
   "version": "3.4.3"
  }
 },
 "nbformat": 4,
 "nbformat_minor": 0
}
