{
 "cells": [
  {
   "cell_type": "code",
   "execution_count": 225,
   "metadata": {
    "collapsed": false
   },
   "outputs": [],
   "source": [
    "import numpy as np \n",
    "import matplotlib.pyplot as plt \n",
    "%matplotlib inline\n",
    "\n",
    "def gaussian_elimination(Ab, row, column): \n",
    "    for i in range(0, column-1):\n",
    "        for j in range(i+1, row+1):\n",
    "            Ab[j,:] = Ab[j,:] - Ab[j,i]*(Ab[i,:]/Ab[i,i])\n",
    "    return(Ab) \n",
    "\n",
    "def back_subsitution(Ab, row, column): \n",
    "\n",
    "    count = 0 \n",
    "\n",
    "    for j in range(column, 0, -1): \n",
    "        Ab[row-count,:] = Ab[row-count,:]/Ab[row-count, column-count-1]\n",
    "        var = Ab[row-count, column]/Ab[row-count, column-count-1]\n",
    "        for i in range((-count - 1) % (row+1), 0, -1):\n",
    "            Ab[i-1, column:] = Ab[i-1, column:]-(Ab[i-1,j-1]*var)\n",
    "            Ab[i-1, j-1] = 0\n",
    "        count += 1 \n",
    "    return(Ab)\n",
    "\n",
    "def row_length(Ab): \n",
    "    return len(Ab)-1\n",
    "\n",
    "def column_length(Ab):\n",
    "    return len(Ab[0])-1\n"
   ]
  },
  {
   "cell_type": "code",
   "execution_count": 222,
   "metadata": {
    "collapsed": false
   },
   "outputs": [],
   "source": [
    "np.set_printoptions(formatter={'float':'{: 0.1f}'.format})\n",
    "\n",
    "A = np.array([[ 2.,-4., 1., 2., -3.], [ 1., 4.,-2.,-1., 1.], [-3., 1.,-2., 5.,-3.], [-5., 3.,-3., 5.,-1.],[-4.,-2., 1., 1.,-2.] ])\n",
    "b = np.array([[-12., 7., -4., 6., -17.]])\n",
    "Ab = np.concatenate((A, b.T), axis=1)\n"
   ]
  },
  {
   "cell_type": "code",
   "execution_count": 223,
   "metadata": {
    "collapsed": false
   },
   "outputs": [
    {
     "name": "stdout",
     "output_type": "stream",
     "text": [
      "[[ 1.0  0.0  0.0  0.0  0.0  2.0]\n",
      " [ 0.0  1.0  0.0  0.0  0.0  3.0]\n",
      " [-0.0 -0.0  1.0 -0.0 -0.0  4.0]\n",
      " [-0.0 -0.0 -0.0  1.0 -0.0  5.0]\n",
      " [-0.0 -0.0 -0.0 -0.0  1.0  6.0]]\n"
     ]
    }
   ],
   "source": [
    "row = row_length(Ab)\n",
    "column = column_length(Ab)\n",
    "\n",
    "Ab = gaussian_elimination(Ab, row, column)\n",
    "Ab = back_subsitution(Ab, row, column)\n",
    "\n",
    "print(Ab)\n"
   ]
  },
  {
   "cell_type": "code",
   "execution_count": 227,
   "metadata": {
    "collapsed": false
   },
   "outputs": [
    {
     "name": "stdout",
     "output_type": "stream",
     "text": [
      "[[ 0.0  0.0  0.0  0.0  1.0 -0.0 -0.0 -0.0 -0.0  nan]\n",
      " [ nan  nan  nan  nan  inf -inf  nan  nan  nan  nan]\n",
      " [ nan  nan  nan  nan -inf  inf  inf  nan  nan  nan]\n",
      " [ nan  nan  nan  nan  inf  inf  inf -inf  nan  nan]\n",
      " [ nan  nan  nan  nan -inf -inf  inf  inf -inf  inf]]\n"
     ]
    },
    {
     "name": "stderr",
     "output_type": "stream",
     "text": [
      "C:\\Users\\Christa\\Anaconda3\\lib\\site-packages\\IPython\\kernel\\__main__.py:17: RuntimeWarning: divide by zero encountered in double_scalars\n",
      "C:\\Users\\Christa\\Anaconda3\\lib\\site-packages\\IPython\\kernel\\__main__.py:19: RuntimeWarning: invalid value encountered in double_scalars\n",
      "C:\\Users\\Christa\\Anaconda3\\lib\\site-packages\\IPython\\kernel\\__main__.py:16: RuntimeWarning: divide by zero encountered in true_divide\n",
      "C:\\Users\\Christa\\Anaconda3\\lib\\site-packages\\IPython\\kernel\\__main__.py:16: RuntimeWarning: invalid value encountered in true_divide\n"
     ]
    }
   ],
   "source": [
    "#i know this gives an error, because of the count variable in my back subsitution function but I can't figure out how to fix it\n",
    "#here are some whimiscal unicode figures if you wish to pay attention to these instead: 😇 🚰 🎟 🐺 🐎 🐽 🍱\n",
    "\n",
    "i = np.identity(5)\n",
    "Ai = np.concatenate((A, i), axis=1)\n",
    "\n",
    "row = row_length(Ai)\n",
    "column = column_length(Ai)\n",
    "\n",
    "Ai = gaussian_elimination(Ai, row, column)\n",
    "Ai = back_subsitution(Ai, row, column)\n",
    "\n",
    "print(Ai)\n"
   ]
  },
  {
   "cell_type": "code",
   "execution_count": null,
   "metadata": {
    "collapsed": true
   },
   "outputs": [],
   "source": []
  }
 ],
 "metadata": {
  "kernelspec": {
   "display_name": "Python 3",
   "language": "python",
   "name": "python3"
  },
  "language_info": {
   "codemirror_mode": {
    "name": "ipython",
    "version": 3
   },
   "file_extension": ".py",
   "mimetype": "text/x-python",
   "name": "python",
   "nbconvert_exporter": "python",
   "pygments_lexer": "ipython3",
   "version": "3.4.3"
  }
 },
 "nbformat": 4,
 "nbformat_minor": 0
}
