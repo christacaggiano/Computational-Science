{
 "cells": [
  {
   "cell_type": "markdown",
   "metadata": {},
   "source": [
    "Christa Caggiano \n",
    "HW 2 \n",
    "Computational Sciences \n",
    "22 Feb \n"
   ]
  },
  {
   "cell_type": "code",
   "execution_count": 35,
   "metadata": {
    "collapsed": false
   },
   "outputs": [],
   "source": [
    "import matplotlib.pyplot as plt \n",
    "import numpy as np \n",
    "import math \n",
    "%matplotlib inline\n",
    "\n",
    "def f(x): \n",
    "    return math.sin((x**2)+1)\n",
    "\n",
    "def midpoint(x1, x2, step):\n",
    "    return (abs(x2-x1))/(2**step) \n"
   ]
  },
  {
   "cell_type": "code",
   "execution_count": 36,
   "metadata": {
    "collapsed": true
   },
   "outputs": [],
   "source": [
    "def midpoint_guess(x1, x2,steps,values):\n",
    "    \n",
    "    values.append((x1,f(x1), (x2,f(x2))))\n",
    "\n",
    "    for step in range(0,steps): \n",
    "        midpoint_X = x1 + midpoint(x1, x2,1)\n",
    "    \n",
    "        if (f(midpoint_X) > 0): \n",
    "            x1 = midpoint_X\n",
    "            values.append((x1, f(x1)))\n",
    "        else:  \n",
    "            x2 = midpoint_X \n",
    "            values.append((x2,f(x2)))"
   ]
  },
  {
   "cell_type": "code",
   "execution_count": 37,
   "metadata": {
    "collapsed": false
   },
   "outputs": [],
   "source": [
    "values = []    \n",
    "midpoint_guess(0,2,4,values)"
   ]
  },
  {
   "cell_type": "code",
   "execution_count": 38,
   "metadata": {
    "collapsed": false
   },
   "outputs": [],
   "source": [
    "error = midpoint(0,2,4)fig, ax = plt.subplots()\n",
    "\n"
   ]
  },
  {
   "cell_type": "code",
   "execution_count": 39,
   "metadata": {
    "collapsed": false
   },
   "outputs": [
    {
     "data": {
      "text/plain": [
       "<matplotlib.text.Text at 0x5b14438>"
      ]
     },
     "execution_count": 39,
     "metadata": {},
     "output_type": "execute_result"
    },
    {
     "data": {
      "image/png": "[encoded data removed]",
      "text/plain": [
       "<matplotlib.figure.Figure at 0x5a84a58>"
      ]
     },
     "metadata": {},
     "output_type": "display_data"
    }
   ],
   "source": [
    "fig, ax = plt.subplots()\n",
    "\n",
    "for point in range(0,len(x)-1): \n",
    "    plt.plot(x[point], y[point], 'b*')\n",
    "    \n",
    "ax.grid(zorder = 0)\n",
    "ax.plot(x[-1], y[-1], 'ro')\n",
    "plt.xlabel('x')\n",
    "plt.ylabel('f(x)')\n",
    "plt.xlim(-0.1,2.1)\n",
    "plt.ylim(-1.1,1.1)\n",
    "plt.title(\"root estimate: %.4f, max error %.4f\" % (x[-1], error))\n"
   ]
  },
  {
   "cell_type": "code",
   "execution_count": null,
   "metadata": {
    "collapsed": true
   },
   "outputs": [],
   "source": []
  },
  {
   "cell_type": "code",
   "execution_count": null,
   "metadata": {
    "collapsed": true
   },
   "outputs": [],
   "source": []
  }
 ],
 "metadata": {
  "kernelspec": {
   "display_name": "Python 3",
   "language": "python",
   "name": "python3"
  },
  "language_info": {
   "codemirror_mode": {
    "name": "ipython",
    "version": 3
   },
   "file_extension": ".py",
   "mimetype": "text/x-python",
   "name": "python",
   "nbconvert_exporter": "python",
   "pygments_lexer": "ipython3",
   "version": "3.4.3"
  }
 },
 "nbformat": 4,
 "nbformat_minor": 0
}
