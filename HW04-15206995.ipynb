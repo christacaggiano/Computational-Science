{
 "cells": [
  {
   "cell_type": "code",
   "execution_count": 153,
   "metadata": {
    "collapsed": false
   },
   "outputs": [],
   "source": [
    "import math \n",
    "import matplotlib.pyplot as plt \n",
    "%matplotlib inline\n",
    "\n",
    "x_start = -0.5 \n",
    "x_end = 1.0 \n",
    "n = 6 \n",
    "step = (x_end-x_start)/n\n",
    "\n",
    "def f(x):\n",
    "    return math.sin(x)+(2*x**2)\n",
    "\n",
    "def g(x): \n",
    "    return (-math.cos(x))+(2*x**3)/3\n"
   ]
  },
  {
   "cell_type": "code",
   "execution_count": 154,
   "metadata": {
    "collapsed": false
   },
   "outputs": [],
   "source": [
    "x_range = []\n",
    "y_range = []\n",
    "\n",
    "for i in range(n+1):\n",
    "    x_range.append(x_start+(i)*step)\n",
    "    y_range.append(f(x_range[i]))\n"
   ]
  },
  {
   "cell_type": "code",
   "execution_count": 155,
   "metadata": {
    "collapsed": false
   },
   "outputs": [],
   "source": [
    "def midpoint(x_range, i, step): \n",
    "    return step*f((x_range[i]+x_range[i+1])/2)"
   ]
  },
  {
   "cell_type": "code",
   "execution_count": 156,
   "metadata": {
    "collapsed": false
   },
   "outputs": [],
   "source": [
    "def trapezoidal(y_range, i, change): \n",
    "    return (step/2)*(y_range[i]+y_range[i+1])"
   ]
  },
  {
   "cell_type": "code",
   "execution_count": 157,
   "metadata": {
    "collapsed": false
   },
   "outputs": [],
   "source": [
    "def simpson(y_range, step, i, n): \n",
    "    if (i==0 or i==n):\n",
    "        y_sum = y_range[i]\n",
    "    elif (i%2 == 0):\n",
    "        y_sum = (2)*y_range[i]\n",
    "    else: \n",
    "        y_sum = (4)*y_range[i]\n",
    "    return y_sum*(step/3)"
   ]
  },
  {
   "cell_type": "code",
   "execution_count": 158,
   "metadata": {
    "collapsed": false
   },
   "outputs": [],
   "source": [
    "midpoint_sum = 0 \n",
    "trapezoidal_sum = 0 \n",
    "simpson_sum = 0\n",
    "\n",
    "for i in range(n): \n",
    "    midpoint_sum += midpoint(x_range, i, step)\n",
    "    trapezoidal_sum += trapezoidal(y_range, i, step)\n",
    "    \n",
    "for i in range(n+1):\n",
    "    simpson_sum += simpson(y_range, step, i, n)\n",
    "\n",
    "actual_sum = g(x_end)-g(x_start)\n"
   ]
  },
  {
   "cell_type": "code",
   "execution_count": 162,
   "metadata": {
    "collapsed": false
   },
   "outputs": [
    {
     "data": {
      "text/plain": [
       "<matplotlib.text.Text at 0x72b4908>"
      ]
     },
     "execution_count": 162,
     "metadata": {},
     "output_type": "execute_result"
    },
    {
     "data": {
      "image/png": "[encoded data removed]",
      "text/plain": [
       "<matplotlib.figure.Figure at 0x7271cf8>"
      ]
     },
     "metadata": {},
     "output_type": "display_data"
    }
   ],
   "source": [
    "plt.plot(x_range, y_range, \"bo-\") \n",
    "plt.title(\"$M_6$ = %.4f, $T_6$ = %.4f, $S_6$ = %.5f, $I_true$ = %.5f\" % (midpoint_sum, trapezoidal_sum, simpson_sum, actual_sum ))"
   ]
  },
  {
   "cell_type": "code",
   "execution_count": null,
   "metadata": {
    "collapsed": true
   },
   "outputs": [],
   "source": []
  }
 ],
 "metadata": {
  "kernelspec": {
   "display_name": "Python 3",
   "language": "python",
   "name": "python3"
  },
  "language_info": {
   "codemirror_mode": {
    "name": "ipython",
    "version": 3
   },
   "file_extension": ".py",
   "mimetype": "text/x-python",
   "name": "python",
   "nbconvert_exporter": "python",
   "pygments_lexer": "ipython3",
   "version": "3.4.3"
  }
 },
 "nbformat": 4,
 "nbformat_minor": 0
}
